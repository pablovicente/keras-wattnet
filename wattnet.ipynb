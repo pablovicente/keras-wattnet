{
 "cells": [
  {
   "cell_type": "code",
   "execution_count": 5,
   "metadata": {
    "scrolled": false
   },
   "outputs": [],
   "source": [
    "import numpy as np\n",
    "import pandas as pd \n",
    "import tensorflow as tf\n",
    "\n",
    "from tensorflow.keras import backend as K\n",
    "from tensorflow.keras import Model, Input, optimizers\n",
    "from tensorflow.keras.layers import Dense"
   ]
  },
  {
   "cell_type": "code",
   "execution_count": 6,
   "metadata": {},
   "outputs": [],
   "source": [
    "from layers.spatial_block import SpatialBlock\n",
    "from layers.temporal_block import ResidualBlock"
   ]
  },
  {
   "cell_type": "markdown",
   "metadata": {},
   "source": [
    "### Dataset"
   ]
  },
  {
   "cell_type": "code",
   "execution_count": 7,
   "metadata": {},
   "outputs": [],
   "source": [
    "in_dim = 50\n",
    "out_dim = 3\n",
    "seq_len = 30\n",
    "\n",
    "data = np.random.rand(800, seq_len, in_dim)\n",
    "labels = np.random.rand(800, seq_len, out_dim)"
   ]
  },
  {
   "cell_type": "markdown",
   "metadata": {},
   "source": [
    "### WattNet"
   ]
  },
  {
   "cell_type": "code",
   "execution_count": 9,
   "metadata": {},
   "outputs": [],
   "source": [
    "def create_model(in_dim: int, out_dim: int, w_dim: int = 128, emb_dim: int = 8,\n",
    "                 dilation_depth: int = 4, dropout_prob: float = 0.2, n_stacks: int = 2):\n",
    "    \"\"\"\n",
    "    Creates a WattNet keras model. \n",
    "    \n",
    "    Parameters\n",
    "    ----------\n",
    "    w_dim: int\n",
    "        Spatial compression dimension carried out by a 2-layer MLP \n",
    "    emb_dim: int\n",
    "        Embedding dimension of scalar values for each of the `w_dim` left after compression\n",
    "    dilation_depth: int\n",
    "        Number of temporal-spatial blocks. Dilation for temporal dilated convolution is doubled each time\n",
    "    n_repeat: int\n",
    "        Number of repeats of #`dilation_depth` of temporal-spatial layers\n",
    "    \"\"\"\n",
    "                        \n",
    "    # Gated Block\n",
    "    residual_blocks = []\n",
    "    dilations = [2 ** i for i in range(1, dilation_depth+1)]\n",
    "    \n",
    "    # Pre MLP\n",
    "    x_in = Input(shape=(seq_len, in_dim,), name='input_features')\n",
    "    \n",
    "    x_out = x_in\n",
    "        \n",
    "    \n",
    "    x_out = Dense(units=128, activation='relu', name=f'preMLP_{0}')(x_out)\n",
    "    x_out = Dense(units=128, activation='relu', name=f'preMLP_{1}')(x_out)\n",
    "    x_out = Dense(units=128, activation='relu', name=f'preMLP_{2}')(x_out)\n",
    "    x_out = Dense(units=w_dim, activation='relu', name=f'preMLP_{3}')(x_out)\n",
    "            \n",
    "    for s in range(n_stacks):\n",
    "        for di, d in enumerate(dilations):            \n",
    "\n",
    "            # Gated Block \n",
    "            x_out = ResidualBlock(dilation=d, filters=w_dim, kernel_size=2, groups=w_dim, \n",
    "                                  name=f'ResidualBlock_{s}_{d}')(x_out)            \n",
    "\n",
    "            # Attention - Slice across temporal dimension\n",
    "            x_out = SpatialBlock(stack=s, dilation=d, w_dim=w_dim, \n",
    "                                 name=f'SpatialBlock_{s}_{d}')(x_out)\n",
    "            \n",
    "    # Post MLP\n",
    "    #x_out = Flatten()(x_out)\n",
    "    \n",
    "    x_out = Dense(units=512, activation='relu', name=f'postMLP_{0}')(x_out)\n",
    "    x_out = Dense(units=out_dim, activation='softmax', name=f'postMLP_{1}')(x_out)\n",
    "    \n",
    "    model = Model(inputs=[x_in], outputs=[x_out], name='WattNet')\n",
    "    model.compile(optimizer='Adam', loss='categorical_crossentropy')\n",
    "\n",
    "    return model            "
   ]
  },
  {
   "cell_type": "code",
   "execution_count": 10,
   "metadata": {
    "scrolled": false
   },
   "outputs": [],
   "source": [
    "model = create_model(in_dim=in_dim, out_dim=out_dim, w_dim=90, emb_dim=1,\n",
    "                     dilation_depth=2, dropout_prob=0.2, n_stacks=4)\n",
    "\n",
    "model.summary()"
   ]
  },
  {
   "cell_type": "markdown",
   "metadata": {},
   "source": [
    "Train & Evaluate"
   ]
  },
  {
   "cell_type": "code",
   "execution_count": null,
   "metadata": {},
   "outputs": [],
   "source": [
    "model.fit(x=data, y=labels)"
   ]
  }
 ],
 "metadata": {
  "kernelspec": {
   "display_name": "Python 3",
   "language": "python",
   "name": "python3"
  },
  "language_info": {
   "codemirror_mode": {
    "name": "ipython",
    "version": 3
   },
   "file_extension": ".py",
   "mimetype": "text/x-python",
   "name": "python",
   "nbconvert_exporter": "python",
   "pygments_lexer": "ipython3",
   "version": "3.7.4"
  }
 },
 "nbformat": 4,
 "nbformat_minor": 2
}
